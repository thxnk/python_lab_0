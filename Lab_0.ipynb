{
 "cells": [
  {
   "cell_type": "code",
   "execution_count": 2,
   "id": "ae55f7b9",
   "metadata": {},
   "outputs": [
    {
     "data": {
      "text/plain": [
       "4"
      ]
     },
     "execution_count": 2,
     "metadata": {},
     "output_type": "execute_result"
    }
   ],
   "source": [
    "N = ord('S') % 10 + 1\n",
    "N"
   ]
  },
  {
   "cell_type": "markdown",
   "id": "9845f26a",
   "metadata": {},
   "source": [
    "# Країна: Джибуті\n",
    "\n",
    "## Основні факти\n",
    "\n",
    "- Площа: 23,200 км²\n",
    "- Населення: близько 793,000 осіб\n",
    "- Державний устрій: Унітарна держава\n",
    "- Офіційні мови країни: арабська та французька\n",
    "\n",
    "## Видатні особистості\n",
    "\n",
    "- *Ісмаїль Омар Гейле*: Перший президент Джибуті.\n",
    "- **Дієго Хошбурго**: Прем'єр-міністр і політик.\n",
    "- <span style=\"color: red;\">*Аферворк Абу Мансур*</span>: Відомий музикант і композитор.\n",
    "\n",
    "## Пам'ятки культури та природи\n",
    "\n",
    "- Сукальдальські острови - Група красивих островів біля берегів Джибуті, відома своєю природою та пляжами.\n",
    "- Джам'ія Джибуті - Історична мечеть в столиці країни, відома своєю архітектурою.\n",
    "\n",
    "## Флаг\n",
    "\n",
    "![Флаг Джибуті](https://upload.wikimedia.org/wikipedia/commons/thumb/3/34/Flag_of_Djibouti.svg/1280px-Flag_of_Djibouti.svg.png)\n",
    "\n",
    "## Гіперпосилання\n",
    "\n",
    "- [Посилання на вікіпедію про Джибуті](https://uk.wikipedia.org/wiki/%D0%94%D0%B6%D0%B8%D0%B1%D1%83%D1%82%D1%96)\n",
    "\n",
    "## Таблиця з додатковою інформацією\n",
    "\n",
    "| Показник            | Значення                     |\n",
    "|---------------------|------------------------------|\n",
    "| Офіційна мова       | Французька, Арабська         |\n",
    "| Валюта              | Франк Джибуті (DJF)          |\n",
    "| Часовий пояс        | UTC+3                        |\n",
    "| Інтернет-домен      | .dj                          |\n"
   ]
  },
  {
   "cell_type": "code",
   "execution_count": 3,
   "id": "79bb6e74",
   "metadata": {},
   "outputs": [
    {
     "name": "stdout",
     "output_type": "stream",
     "text": [
      "Введіть список чисел через пробіл: 5 6 23 8 12 5\n",
      "Кількість переставлень: 6\n",
      "Введіть список чисел через пробіл: 7 3 1 7 4 2 8 2\n",
      "Кількість переставлень: 14\n",
      "Введіть список чисел через пробіл: 3 2 test\n",
      "Помилка. У списку присутнє не числове значення.\n",
      "Введіть список чисел через пробіл: 4 2 13 32 432 12 2 1 \n",
      "Кількість переставлень: 16\n"
     ]
    }
   ],
   "source": [
    "def bubble_sort(arr):\n",
    "    n = len(arr)\n",
    "    swap_count = 0\n",
    "\n",
    "    for i in range(n):\n",
    "        for j in range(0, n - i - 1):\n",
    "            if arr[j] > arr[j + 1]:\n",
    "                arr[j], arr[j + 1] = arr[j + 1], arr[j]\n",
    "                swap_count += 1\n",
    "\n",
    "    return swap_count\n",
    "\n",
    "def input_list():\n",
    "    while True:\n",
    "        try:\n",
    "            input_str = input(\"Введіть список чисел через пробіл: \")\n",
    "            arr = [int(x) for x in input_str.split()]\n",
    "            return arr\n",
    "        except ValueError:\n",
    "            print(\"Помилка. У списку присутнє не числове значення.\")\n",
    "\n",
    "arr1 = input_list()\n",
    "swaps1 = bubble_sort(arr1.copy())\n",
    "print(f\"Кількість переставлень: {swaps1}\")\n",
    "\n",
    "arr2 = input_list()\n",
    "swaps2 = bubble_sort(arr2.copy())\n",
    "print(f\"Кількість переставлень: {swaps2}\")\n",
    "\n",
    "arr3 = input_list()\n",
    "swaps3 = bubble_sort(arr3.copy())\n",
    "print(f\"Кількість переставлень: {swaps3}\")"
   ]
  },
  {
   "cell_type": "code",
   "execution_count": null,
   "id": "e62fdf8f",
   "metadata": {
    "collapsed": true
   },
   "outputs": [],
   "source": []
  }
 ],
 "metadata": {
  "kernelspec": {
   "display_name": "Python 3 (ipykernel)",
   "language": "python",
   "name": "python3"
  },
  "language_info": {
   "codemirror_mode": {
    "name": "ipython",
    "version": 3
   },
   "file_extension": ".py",
   "mimetype": "text/x-python",
   "name": "python",
   "nbconvert_exporter": "python",
   "pygments_lexer": "ipython3",
   "version": "3.11.5"
  }
 },
 "nbformat": 4,
 "nbformat_minor": 5
}
